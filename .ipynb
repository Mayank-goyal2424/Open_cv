{
 "cells": [
  {
   "cell_type": "code",
   "execution_count": 17,
   "metadata": {},
   "outputs": [],
   "source": [
    "import cv2;"
   ]
  },
  {
   "cell_type": "code",
   "execution_count": 2,
   "metadata": {},
   "outputs": [],
   "source": [
    "import numpy as np"
   ]
  },
  {
   "cell_type": "code",
   "execution_count": 27,
   "metadata": {},
   "outputs": [],
   "source": [
    "#Reading,writing,displaying\n",
    "#img=cv2.imread(\"/home/kiet14/CV/may1.jpg\");\n",
    "img=cv2.imread(\"C:\\\\Users\\\\user\\\\Desktop\\\\may1.jpg\")\n"
   ]
  },
  {
   "cell_type": "code",
   "execution_count": 8,
   "metadata": {},
   "outputs": [],
   "source": [
    "cv2.imshow(\"Original\",img)\n",
    "cv2.waitKey(0)\n",
    "cv2.destroyAllWindows()"
   ]
  },
  {
   "cell_type": "code",
   "execution_count": 65,
   "metadata": {},
   "outputs": [
    {
     "name": "stdout",
     "output_type": "stream",
     "text": [
      "Height of image:  1080 pixels\n",
      "width of image:  1920 pixels\n"
     ]
    }
   ],
   "source": [
    "#dimensions of image\n",
    "print(\"Height of image: \",int(img.shape[0]),'pixels')\n",
    "print(\"width of image: \",int(img.shape[1]),'pixels')"
   ]
  },
  {
   "cell_type": "code",
   "execution_count": 66,
   "metadata": {},
   "outputs": [
    {
     "data": {
      "text/plain": [
       "True"
      ]
     },
     "execution_count": 66,
     "metadata": {},
     "output_type": "execute_result"
    }
   ],
   "source": [
    "cv2.imwrite('Output.jpg',img)\n",
    "cv2.imwrite('Output.png',img)"
   ]
  },
  {
   "cell_type": "code",
   "execution_count": 9,
   "metadata": {},
   "outputs": [],
   "source": [
    "#Grayscaling\n",
    "gray=cv2.imread(\"/home/kiet14/CV/may1.jpg\",0)"
   ]
  },
  {
   "cell_type": "code",
   "execution_count": 68,
   "metadata": {},
   "outputs": [],
   "source": [
    "cv2.imshow(\"Grayscale\",gray)"
   ]
  },
  {
   "cell_type": "code",
   "execution_count": 69,
   "metadata": {},
   "outputs": [],
   "source": [
    "cv2.waitKey(10000)\n",
    "cv2.destroyAllWindows()"
   ]
  },
  {
   "cell_type": "code",
   "execution_count": 70,
   "metadata": {},
   "outputs": [],
   "source": [
    "import sys"
   ]
  },
  {
   "cell_type": "code",
   "execution_count": 72,
   "metadata": {},
   "outputs": [
    {
     "name": "stdout",
     "output_type": "stream",
     "text": [
      "/home/kiet14/computer_vision/bin/python3\n"
     ]
    }
   ],
   "source": [
    "#directiorey\n",
    "print(sys.executable)"
   ]
  },
  {
   "cell_type": "code",
   "execution_count": 73,
   "metadata": {},
   "outputs": [
    {
     "name": "stdout",
     "output_type": "stream",
     "text": [
      "/home/kiet14/CV\n"
     ]
    }
   ],
   "source": [
    "import os\n",
    "#Folder name and location\n",
    "print(os.getcwd())"
   ]
  },
  {
   "cell_type": "code",
   "execution_count": 5,
   "metadata": {},
   "outputs": [
    {
     "name": "stdout",
     "output_type": "stream",
     "text": [
      "4.1.2\n"
     ]
    }
   ],
   "source": [
    "print(cv2.__version__)"
   ]
  },
  {
   "cell_type": "code",
   "execution_count": 75,
   "metadata": {},
   "outputs": [
    {
     "name": "stdout",
     "output_type": "stream",
     "text": [
      "51 18 2\n"
     ]
    }
   ],
   "source": [
    "B,G,R=img[0,0]\n",
    "print(B,G,R)"
   ]
  },
  {
   "cell_type": "code",
   "execution_count": 76,
   "metadata": {},
   "outputs": [
    {
     "name": "stdout",
     "output_type": "stream",
     "text": [
      "76 34 0\n",
      "(1080, 1920, 3)\n"
     ]
    }
   ],
   "source": [
    "#Color intensity at a particular index\n",
    "B,G,R=img[50,30]\n",
    "print(B,G,R)\n",
    "print(img.shape)"
   ]
  },
  {
   "cell_type": "code",
   "execution_count": 21,
   "metadata": {},
   "outputs": [
    {
     "data": {
      "text/plain": [
       "34"
      ]
     },
     "execution_count": 21,
     "metadata": {},
     "output_type": "execute_result"
    }
   ],
   "source": [
    "gray[0,0]"
   ]
  },
  {
   "cell_type": "code",
   "execution_count": 22,
   "metadata": {},
   "outputs": [
    {
     "data": {
      "text/plain": [
       "34"
      ]
     },
     "execution_count": 22,
     "metadata": {},
     "output_type": "execute_result"
    }
   ],
   "source": [
    "gray[40,39]"
   ]
  },
  {
   "cell_type": "code",
   "execution_count": 23,
   "metadata": {},
   "outputs": [
    {
     "data": {
      "text/plain": [
       "(1080, 1920)"
      ]
     },
     "execution_count": 23,
     "metadata": {},
     "output_type": "execute_result"
    }
   ],
   "source": [
    "gray.shape"
   ]
  },
  {
   "cell_type": "markdown",
   "metadata": {},
   "source": [
    "# Another Useful Color Space is HSV"
   ]
  },
  {
   "cell_type": "code",
   "execution_count": 77,
   "metadata": {},
   "outputs": [],
   "source": [
    "hsv_img=cv2.cvtColor(img,cv2.COLOR_BGR2HSV)"
   ]
  },
  {
   "cell_type": "code",
   "execution_count": 81,
   "metadata": {},
   "outputs": [],
   "source": [
    "cv2.imshow('HSV image',hsv_img)\n",
    "cv2.imshow('Hue Channel',hsv_img[:,:,0])\n",
    "cv2.imshow('Saturation Channel',hsv_img[:,:,1])\n",
    "cv2.imshow('Value Channel',hsv_img[:,:,2])"
   ]
  },
  {
   "cell_type": "code",
   "execution_count": 82,
   "metadata": {},
   "outputs": [
    {
     "data": {
      "text/plain": [
       "-1"
      ]
     },
     "execution_count": 82,
     "metadata": {},
     "output_type": "execute_result"
    }
   ],
   "source": [
    "cv2.waitKey(5000)"
   ]
  },
  {
   "cell_type": "code",
   "execution_count": 83,
   "metadata": {},
   "outputs": [],
   "source": [
    "cv2.destroyAllWindows()"
   ]
  },
  {
   "cell_type": "markdown",
   "metadata": {},
   "source": [
    "# Let's Now looking at individual channels in an RGB image"
   ]
  },
  {
   "cell_type": "code",
   "execution_count": 84,
   "metadata": {},
   "outputs": [
    {
     "name": "stdout",
     "output_type": "stream",
     "text": [
      "(1080, 1920)\n"
     ]
    }
   ],
   "source": [
    "#Split function splits the images into each color index\n",
    "B,G,R=cv2.split(img)\n",
    "print(B.shape)"
   ]
  },
  {
   "cell_type": "code",
   "execution_count": 87,
   "metadata": {},
   "outputs": [],
   "source": [
    "cv2.imshow(\"Red\",R)\n",
    "cv2.imshow(\"Green\",G)\n",
    "cv2.imshow(\"Blue\",B)"
   ]
  },
  {
   "cell_type": "code",
   "execution_count": 88,
   "metadata": {},
   "outputs": [],
   "source": [
    "cv2.waitKey(10000)\n",
    "cv2.destroyAllWindows()"
   ]
  },
  {
   "cell_type": "code",
   "execution_count": 95,
   "metadata": {},
   "outputs": [],
   "source": [
    "merged=cv2.merge([B,G,R])\n",
    "cv2.imshow(\"Merged\",merged)"
   ]
  },
  {
   "cell_type": "code",
   "execution_count": 96,
   "metadata": {},
   "outputs": [],
   "source": [
    "cv2.waitKey(10000);\n",
    "cv2.destroyAllWindows()"
   ]
  },
  {
   "cell_type": "code",
   "execution_count": 101,
   "metadata": {},
   "outputs": [],
   "source": [
    "#increase intensity of a particular color\n",
    "merg=cv2.merge([B+100,G,R])\n",
    "cv2.imshow(\"Merged\",merg)\n",
    "cv2.waitKey(10000);\n",
    "cv2.destroyAllWindows()"
   ]
  },
  {
   "cell_type": "code",
   "execution_count": 104,
   "metadata": {},
   "outputs": [],
   "source": [
    "zeros=np.zeros(img.shape[:2],dtype=\"uint8\")"
   ]
  },
  {
   "cell_type": "code",
   "execution_count": 109,
   "metadata": {},
   "outputs": [
    {
     "ename": "error",
     "evalue": "OpenCV(4.1.2) /io/opencv/modules/core/src/merge.dispatch.cpp:129: error: (-215:Assertion failed) mv[i].size == mv[0].size && mv[i].depth() == depth in function 'merge'\n",
     "output_type": "error",
     "traceback": [
      "\u001b[0;31m---------------------------------------------------------------------------\u001b[0m",
      "\u001b[0;31merror\u001b[0m                                     Traceback (most recent call last)",
      "\u001b[0;32m<ipython-input-109-169fd99f9085>\u001b[0m in \u001b[0;36m<module>\u001b[0;34m\u001b[0m\n\u001b[0;32m----> 1\u001b[0;31m \u001b[0mcv2\u001b[0m\u001b[0;34m.\u001b[0m\u001b[0mimshow\u001b[0m\u001b[0;34m(\u001b[0m\u001b[0;34m\"Red\"\u001b[0m\u001b[0;34m,\u001b[0m\u001b[0mcv2\u001b[0m\u001b[0;34m.\u001b[0m\u001b[0mmerge\u001b[0m\u001b[0;34m(\u001b[0m\u001b[0;34m[\u001b[0m\u001b[0;36m89\u001b[0m\u001b[0;34m,\u001b[0m\u001b[0;36m40\u001b[0m\u001b[0;34m,\u001b[0m\u001b[0mR\u001b[0m\u001b[0;34m]\u001b[0m\u001b[0;34m)\u001b[0m\u001b[0;34m)\u001b[0m\u001b[0;34m\u001b[0m\u001b[0;34m\u001b[0m\u001b[0m\n\u001b[0m\u001b[1;32m      2\u001b[0m \u001b[0mcv2\u001b[0m\u001b[0;34m.\u001b[0m\u001b[0mimshow\u001b[0m\u001b[0;34m(\u001b[0m\u001b[0;34m\"Green\"\u001b[0m\u001b[0;34m,\u001b[0m\u001b[0mcv2\u001b[0m\u001b[0;34m.\u001b[0m\u001b[0mmerge\u001b[0m\u001b[0;34m(\u001b[0m\u001b[0;34m[\u001b[0m\u001b[0mzeros\u001b[0m\u001b[0;34m,\u001b[0m\u001b[0mG\u001b[0m\u001b[0;34m,\u001b[0m\u001b[0mzeros\u001b[0m\u001b[0;34m]\u001b[0m\u001b[0;34m)\u001b[0m\u001b[0;34m)\u001b[0m\u001b[0;34m\u001b[0m\u001b[0;34m\u001b[0m\u001b[0m\n\u001b[1;32m      3\u001b[0m \u001b[0mcv2\u001b[0m\u001b[0;34m.\u001b[0m\u001b[0mimshow\u001b[0m\u001b[0;34m(\u001b[0m\u001b[0;34m\"Blue\"\u001b[0m\u001b[0;34m,\u001b[0m\u001b[0mcv2\u001b[0m\u001b[0;34m.\u001b[0m\u001b[0mmerge\u001b[0m\u001b[0;34m(\u001b[0m\u001b[0;34m[\u001b[0m\u001b[0mB\u001b[0m\u001b[0;34m,\u001b[0m\u001b[0mzeros\u001b[0m\u001b[0;34m,\u001b[0m\u001b[0mzeros\u001b[0m\u001b[0;34m]\u001b[0m\u001b[0;34m)\u001b[0m\u001b[0;34m)\u001b[0m\u001b[0;34m\u001b[0m\u001b[0;34m\u001b[0m\u001b[0m\n\u001b[1;32m      4\u001b[0m \u001b[0mcv2\u001b[0m\u001b[0;34m.\u001b[0m\u001b[0mwaitKey\u001b[0m\u001b[0;34m(\u001b[0m\u001b[0;36m0\u001b[0m\u001b[0;34m)\u001b[0m\u001b[0;34m\u001b[0m\u001b[0;34m\u001b[0m\u001b[0m\n\u001b[1;32m      5\u001b[0m \u001b[0mcv2\u001b[0m\u001b[0;34m.\u001b[0m\u001b[0mdestroyAllWindows\u001b[0m\u001b[0;34m(\u001b[0m\u001b[0;34m)\u001b[0m\u001b[0;34m\u001b[0m\u001b[0;34m\u001b[0m\u001b[0m\n",
      "\u001b[0;31merror\u001b[0m: OpenCV(4.1.2) /io/opencv/modules/core/src/merge.dispatch.cpp:129: error: (-215:Assertion failed) mv[i].size == mv[0].size && mv[i].depth() == depth in function 'merge'\n"
     ]
    }
   ],
   "source": [
    "cv2.imshow(\"Red\",cv2.merge([89,40,R]))\n",
    "cv2.imshow(\"Green\",cv2.merge([zeros,G,zeros]))\n",
    "cv2.imshow(\"Blue\",cv2.merge([B,zeros,zeros]))\n",
    "cv2.waitKey(0)\n",
    "cv2.destroyAllWindows()"
   ]
  },
  {
   "cell_type": "markdown",
   "metadata": {},
   "source": [
    "# Histograms "
   ]
  },
  {
   "cell_type": "code",
   "execution_count": 6,
   "metadata": {},
   "outputs": [],
   "source": [
    "from matplotlib import pyplot as plt"
   ]
  },
  {
   "cell_type": "code",
   "execution_count": 7,
   "metadata": {},
   "outputs": [],
   "source": [
    "histogram=cv2.calcHist([img],[0],None,[256],[0,256])"
   ]
  },
  {
   "cell_type": "code",
   "execution_count": 8,
   "metadata": {},
   "outputs": [
    {
     "data": {
      "text/plain": [
       "(array([1185591.,  223234.,  161105.,  127066.,  104291.,   92493.,\n",
       "          80824.,   71459.,   62754.,   58034.,   58199.,   51594.,\n",
       "          47842.,   42920.,   40436.,   38383.,   35019.,   33086.,\n",
       "          30917.,   29704.,   27510.,   26639.,   25553.,   24532.,\n",
       "          23224.,   22478.,   22094.,   21460.,   20618.,   20465.,\n",
       "          20278.,   19978.,   19357.,   19052.,   18093.,   17629.,\n",
       "          17240.,   17047.,   16521.,   16613.,   16204.,   16341.,\n",
       "          16181.,   15930.,   15533.,   15822.,   15533.,   15549.,\n",
       "          15588.,   15380.,   15763.,   15457.,   15287.,   14640.,\n",
       "          14591.,   14229.,   14316.,   14227.,   14038.,   14005.,\n",
       "          14121.,   14097.,   14311.,   14035.,   14221.,   14399.,\n",
       "          14227.,   14130.,   14063.,   13951.,   13726.,   13803.,\n",
       "          13678.,   13885.,   13906.,   13940.,   14064.,   13956.,\n",
       "          14336.,   14342.,   14404.,   14867.,   15013.,   15118.,\n",
       "          15237.,   15530.,   15396.,   15748.,   15658.,   15748.,\n",
       "          15946.,   16171.,   16565.,   16456.,   16697.,   16730.,\n",
       "          16757.,   16692.,   16702.,   16381.,   16637.,   16768.,\n",
       "          16939.,   17187.,   17104.,   17296.,   17375.,   17534.,\n",
       "          17578.,   17630.,   17954.,   17836.,   18226.,   18319.,\n",
       "          18466.,   18343.,   18684.,   18406.,   18083.,   18461.,\n",
       "          18423.,   18284.,   18093.,   17892.,   17894.,   17642.,\n",
       "          17780.,   17564.,   17604.,   17397.,   17476.,   17244.,\n",
       "          17068.,   16960.,   16760.,   16695.,   16349.,   16528.,\n",
       "          16252.,   16111.,   16136.,   16006.,   15754.,   15864.,\n",
       "          15765.,   15536.,   15791.,   15269.,   15162.,   15101.,\n",
       "          15054.,   14694.,   14853.,   14656.,   14646.,   14565.,\n",
       "          14361.,   14134.,   14190.,   13930.,   13965.,   13520.,\n",
       "          13311.,   13421.,   13059.,   13134.,   13021.,   12765.,\n",
       "          12551.,   12447.,   12433.,   12233.,   12276.,   11938.,\n",
       "          11513.,   11724.,   11411.,   11321.,   11041.,   10781.,\n",
       "          10796.,   10846.,   10541.,   10465.,   10289.,   10180.,\n",
       "          10062.,    9739.,    9580.,    9668.,    9350.,    9175.,\n",
       "           8989.,    8990.,    8905.,    8599.,    8525.,    8464.,\n",
       "           8269.,    8278.,    8374.,    8163.,    8230.,    8079.,\n",
       "           8040.,    7862.,    7724.,    8021.,    7688.,    7918.,\n",
       "           7829.,    7672.,    7742.,    7671.,    7873.,    7802.,\n",
       "           7708.,    7872.,    7863.,    7814.,    8167.,    8171.,\n",
       "           8265.,    8212.,    8639.,    8584.,    8897.,    9320.,\n",
       "           9720.,   10087.,   10790.,   11174.,   11819.,   12275.,\n",
       "          13238.,   13888.,   14677.,   15777.,   16407.,   17363.,\n",
       "          18350.,   19318.,   19816.,   20718.,   21643.,   22997.,\n",
       "          25760.,   30439.,   35434.,   35838.,   38561.,   47027.,\n",
       "          44068.,   45321.,   32072.,   45186.]),\n",
       " array([  0.,   1.,   2.,   3.,   4.,   5.,   6.,   7.,   8.,   9.,  10.,\n",
       "         11.,  12.,  13.,  14.,  15.,  16.,  17.,  18.,  19.,  20.,  21.,\n",
       "         22.,  23.,  24.,  25.,  26.,  27.,  28.,  29.,  30.,  31.,  32.,\n",
       "         33.,  34.,  35.,  36.,  37.,  38.,  39.,  40.,  41.,  42.,  43.,\n",
       "         44.,  45.,  46.,  47.,  48.,  49.,  50.,  51.,  52.,  53.,  54.,\n",
       "         55.,  56.,  57.,  58.,  59.,  60.,  61.,  62.,  63.,  64.,  65.,\n",
       "         66.,  67.,  68.,  69.,  70.,  71.,  72.,  73.,  74.,  75.,  76.,\n",
       "         77.,  78.,  79.,  80.,  81.,  82.,  83.,  84.,  85.,  86.,  87.,\n",
       "         88.,  89.,  90.,  91.,  92.,  93.,  94.,  95.,  96.,  97.,  98.,\n",
       "         99., 100., 101., 102., 103., 104., 105., 106., 107., 108., 109.,\n",
       "        110., 111., 112., 113., 114., 115., 116., 117., 118., 119., 120.,\n",
       "        121., 122., 123., 124., 125., 126., 127., 128., 129., 130., 131.,\n",
       "        132., 133., 134., 135., 136., 137., 138., 139., 140., 141., 142.,\n",
       "        143., 144., 145., 146., 147., 148., 149., 150., 151., 152., 153.,\n",
       "        154., 155., 156., 157., 158., 159., 160., 161., 162., 163., 164.,\n",
       "        165., 166., 167., 168., 169., 170., 171., 172., 173., 174., 175.,\n",
       "        176., 177., 178., 179., 180., 181., 182., 183., 184., 185., 186.,\n",
       "        187., 188., 189., 190., 191., 192., 193., 194., 195., 196., 197.,\n",
       "        198., 199., 200., 201., 202., 203., 204., 205., 206., 207., 208.,\n",
       "        209., 210., 211., 212., 213., 214., 215., 216., 217., 218., 219.,\n",
       "        220., 221., 222., 223., 224., 225., 226., 227., 228., 229., 230.,\n",
       "        231., 232., 233., 234., 235., 236., 237., 238., 239., 240., 241.,\n",
       "        242., 243., 244., 245., 246., 247., 248., 249., 250., 251., 252.,\n",
       "        253., 254., 255., 256.]),\n",
       " <a list of 256 Patch objects>)"
      ]
     },
     "execution_count": 8,
     "metadata": {},
     "output_type": "execute_result"
    },
    {
     "data": {
      "image/png": "[encoded data removed]",
      "text/plain": [
       "<Figure size 432x288 with 1 Axes>"
      ]
     },
     "metadata": {
      "needs_background": "light"
     },
     "output_type": "display_data"
    }
   ],
   "source": [
    "plt.hist(img.ravel(),256,[0,256])"
   ]
  },
  {
   "cell_type": "code",
   "execution_count": 9,
   "metadata": {},
   "outputs": [],
   "source": [
    "plt.show()"
   ]
  },
  {
   "cell_type": "markdown",
   "metadata": {},
   "source": [
    "# Viewing seprate color channel"
   ]
  },
  {
   "cell_type": "code",
   "execution_count": 11,
   "metadata": {},
   "outputs": [],
   "source": [
    "color=('b','g','r')"
   ]
  },
  {
   "cell_type": "code",
   "execution_count": 13,
   "metadata": {},
   "outputs": [
    {
     "data": {
      "image/png": "[encoded data removed]",
      "text/plain": [
       "<Figure size 432x288 with 1 Axes>"
      ]
     },
     "metadata": {
      "needs_background": "light"
     },
     "output_type": "display_data"
    },
    {
     "data": {
      "image/png": "[encoded data removed]",
      "text/plain": [
       "<Figure size 432x288 with 1 Axes>"
      ]
     },
     "metadata": {
      "needs_background": "light"
     },
     "output_type": "display_data"
    },
    {
     "data": {
      "image/png": "[encoded data removed]",
      "text/plain": [
       "<Figure size 432x288 with 1 Axes>"
      ]
     },
     "metadata": {
      "needs_background": "light"
     },
     "output_type": "display_data"
    }
   ],
   "source": [
    "for i,col in enumerate(color):\n",
    "    hist2=cv2.calcHist([img],[i],None,[256],[0,256])\n",
    "    plt.plot(hist2,color=col)\n",
    "    plt.xlim([0,256])\n",
    "    plt.show()"
   ]
  },
  {
   "cell_type": "markdown",
   "metadata": {},
   "source": [
    "# Drawing images and shaping using Opencv"
   ]
  },
  {
   "cell_type": "code",
   "execution_count": 36,
   "metadata": {},
   "outputs": [],
   "source": [
    "#Create a black image\n",
    "bimg=np.zeros((512,512,3),np.uint8)\n",
    "cv2.imshow(\"Black rectangle\",bimg)\n",
    "cv2.waitKey(0)\n",
    "cv2.destroyAllWindows()"
   ]
  },
  {
   "cell_type": "code",
   "execution_count": 16,
   "metadata": {},
   "outputs": [
    {
     "name": "stdout",
     "output_type": "stream",
     "text": [
      "[[[0 0 0]\n",
      "  [0 0 0]\n",
      "  [0 0 0]\n",
      "  ...\n",
      "  [0 0 0]\n",
      "  [0 0 0]\n",
      "  [0 0 0]]\n",
      "\n",
      " [[0 0 0]\n",
      "  [0 0 0]\n",
      "  [0 0 0]\n",
      "  ...\n",
      "  [0 0 0]\n",
      "  [0 0 0]\n",
      "  [0 0 0]]\n",
      "\n",
      " [[0 0 0]\n",
      "  [0 0 0]\n",
      "  [0 0 0]\n",
      "  ...\n",
      "  [0 0 0]\n",
      "  [0 0 0]\n",
      "  [0 0 0]]\n",
      "\n",
      " ...\n",
      "\n",
      " [[0 0 0]\n",
      "  [0 0 0]\n",
      "  [0 0 0]\n",
      "  ...\n",
      "  [0 0 0]\n",
      "  [0 0 0]\n",
      "  [0 0 0]]\n",
      "\n",
      " [[0 0 0]\n",
      "  [0 0 0]\n",
      "  [0 0 0]\n",
      "  ...\n",
      "  [0 0 0]\n",
      "  [0 0 0]\n",
      "  [0 0 0]]\n",
      "\n",
      " [[0 0 0]\n",
      "  [0 0 0]\n",
      "  [0 0 0]\n",
      "  ...\n",
      "  [0 0 0]\n",
      "  [0 0 0]\n",
      "  [0 0 0]]]\n"
     ]
    }
   ],
   "source": [
    "print(bimg)"
   ]
  },
  {
   "cell_type": "markdown",
   "metadata": {},
   "source": [
    "# Let's draw a straight line"
   ]
  },
  {
   "cell_type": "code",
   "execution_count": 21,
   "metadata": {},
   "outputs": [],
   "source": [
    "cv2.line(bimg,(0,0),(511,511),(24,255,7),5)\n",
    "cv2.imshow(\"Rectangle\",bimg)\n",
    "cv2.waitKey(0)\n",
    "cv2.destroyAllWindows()"
   ]
  },
  {
   "cell_type": "markdown",
   "metadata": {},
   "source": [
    "# Circles"
   ]
  },
  {
   "cell_type": "code",
   "execution_count": 26,
   "metadata": {},
   "outputs": [],
   "source": [
    "cv2.circle(bimg,(350,350),100,(90,100,150),-1)\n",
    "cv2.imshow(\"Circle\",bimg)\n",
    "cv2.waitKey(0)\n",
    "cv2.destroyAllWindows()"
   ]
  },
  {
   "cell_type": "markdown",
   "metadata": {},
   "source": [
    "# Rectangle"
   ]
  },
  {
   "cell_type": "code",
   "execution_count": 30,
   "metadata": {},
   "outputs": [],
   "source": [
    "cv2.rectangle(bimg,(100,100),(300,250),(127,50,127),-1)\n",
    "cv2.imshow(\"Rectangle\",bimg)\n",
    "cv2.waitKey(0)\n",
    "cv2.destroyAllWindows()"
   ]
  },
  {
   "cell_type": "code",
   "execution_count": 31,
   "metadata": {},
   "outputs": [],
   "source": [
    "cv2.rectangle(bimg,(100,100),(300,250),(127,50,127),5)\n",
    "cv2.imshow(\"Rectangle\",bimg)\n",
    "cv2.waitKey(0)\n",
    "cv2.destroyAllWindows()"
   ]
  },
  {
   "cell_type": "markdown",
   "metadata": {},
   "source": [
    "# Polygons"
   ]
  },
  {
   "cell_type": "code",
   "execution_count": 38,
   "metadata": {},
   "outputs": [],
   "source": [
    "#define four points\n",
    "pts=np.array([[10,50],[400,300],[250,100],[500,600]],np.int32)\n",
    "pts=pts.reshape(-1,1,2)\n",
    "cv2.polylines(bimg,[pts],True,(127,100,127))\n",
    "#cv2.rectangle(bimg,(100,100),(300,250),(127,50,127),-1)\n",
    "cv2.imshow(\"Polygon\",bimg)\n",
    "cv2.waitKey(0)\n",
    "cv2.destroyAllWindows()"
   ]
  },
  {
   "cell_type": "markdown",
   "metadata": {},
   "source": [
    "# Add text with cv2.putText"
   ]
  },
  {
   "cell_type": "code",
   "execution_count": 45,
   "metadata": {},
   "outputs": [],
   "source": [
    "bimg=np.zeros((512,512,3),np.uint8)\n",
    "cv2.putText(bimg,\"Hello World\",(75,290),cv2.FONT_HERSHEY_COMPLEX,2,(100,127,0),3)\n",
    "cv2.imshow(\"Polygon\",bimg)\n",
    "cv2.waitKey(0)\n",
    "cv2.destroyAllWindows()"
   ]
  },
  {
   "cell_type": "code",
   "execution_count": 52,
   "metadata": {},
   "outputs": [],
   "source": [
    "bimg=np.zeros((512,512,3),np.uint8)\n",
    "cv2.putText(bimg,\"Hello World\",(75,290),cv2.FONT_HERSHEY_SIMPLEX,1,(100,127,0))\n",
    "cv2.imshow(\"TITTLE\",bimg)\n",
    "cv2.waitKey(0)\n",
    "cv2.destroyAllWindows()"
   ]
  },
  {
   "cell_type": "code",
   "execution_count": 53,
   "metadata": {},
   "outputs": [],
   "source": [
    "bimg=np.zeros((512,512,3),np.uint8)\n",
    "cv2.putText(bimg,\"Hello World\",(75,290),cv2.FONT_HERSHEY_PLAIN,1,(100,127,0))\n",
    "cv2.imshow(\"Polygon\",bimg)\n",
    "cv2.waitKey(0)\n",
    "cv2.destroyAllWindows()"
   ]
  },
  {
   "cell_type": "code",
   "execution_count": 55,
   "metadata": {},
   "outputs": [],
   "source": [
    "bimg=np.zeros((512,512,3),np.uint8)\n",
    "cv2.putText(bimg,\"Hello World\",(75,290),cv2.FONT_HERSHEY_DUPLEX,2,(100,127,0),3)\n",
    "cv2.imshow(\"Polygon\",bimg)\n",
    "cv2.waitKey(0)\n",
    "cv2.destroyAllWindows()"
   ]
  },
  {
   "cell_type": "code",
   "execution_count": 56,
   "metadata": {},
   "outputs": [],
   "source": [
    "bimg=np.zeros((512,512,3),np.uint8)\n",
    "cv2.putText(bimg,\"Hello World\",(75,290),cv2.FONT_HERSHEY_SCRIPT_COMPLEX,2,(100,127,0),3)\n",
    "cv2.imshow(\"Polygon\",bimg)\n",
    "cv2.waitKey(0)\n",
    "cv2.destroyAllWindows()"
   ]
  },
  {
   "cell_type": "markdown",
   "metadata": {},
   "source": [
    "# Translation"
   ]
  },
  {
   "cell_type": "code",
   "execution_count": 57,
   "metadata": {},
   "outputs": [],
   "source": [
    "#Translation matrix\n",
    "height,width=img.shape[:2]\n",
    "quarter_height,quarter_width=height/4,width/4\n",
    "T=np.float32([[1,0,quarter_width],[0,1,quarter_height]])\n",
    "img_trans=cv2.warpAffine(img,T,(width,height))\n",
    "cv2.imshow(\"Translation\",img_trans)\n",
    "cv2.waitKey(0)\n",
    "cv2.destroyAllWindows()"
   ]
  },
  {
   "cell_type": "code",
   "execution_count": 58,
   "metadata": {},
   "outputs": [
    {
     "name": "stdout",
     "output_type": "stream",
     "text": [
      "[[  1.   0. 480.]\n",
      " [  0.   1. 270.]]\n"
     ]
    }
   ],
   "source": [
    "print(T)"
   ]
  },
  {
   "cell_type": "markdown",
   "metadata": {},
   "source": [
    "# Rotations"
   ]
  },
  {
   "cell_type": "code",
   "execution_count": 12,
   "metadata": {},
   "outputs": [],
   "source": [
    "height,width=img.shape[:2]\n",
    "rot_matrix=cv2.getRotationMatrix2D((width/2,height/2),90,.5)\n",
    "rot_img=cv2.warpAffine(img,rot_matrix,(width,height))\n",
    "cv2.imshow(\"Rotation\",rot_img)\n",
    "cv2.waitKey(0)\n",
    "cv2.destroyAllWindows()"
   ]
  },
  {
   "cell_type": "code",
   "execution_count": 13,
   "metadata": {},
   "outputs": [],
   "source": [
    "rotated_img=cv2.transpose(img)\n",
    "cv2.imshow(\"Rotation\",rotated_img)\n",
    "cv2.waitKey(0)\n",
    "cv2.destroyAllWindows()"
   ]
  },
  {
   "cell_type": "markdown",
   "metadata": {},
   "source": [
    "# Resizing,scaling and interpolation"
   ]
  },
  {
   "cell_type": "code",
   "execution_count": 15,
   "metadata": {},
   "outputs": [],
   "source": [
    "img_scaled=cv2.resize(img,None,fx=0.75,fy=0.5)\n",
    "cv2.imshow(\"Scaling\",img_scaled)\n",
    "cv2.waitKey(0)\n",
    "cv2.destroyAllWindows()"
   ]
  },
  {
   "cell_type": "code",
   "execution_count": 21,
   "metadata": {},
   "outputs": [],
   "source": [
    "img_scaled2=cv2.resize(img,None,fx=2,fy=2,interpolation=cv2.INTER_CUBIC)\n",
    "cv2.imshow(\"Scaling\",img_scaled2)\n",
    "cv2.waitKey(0)\n",
    "cv2.destroyAllWindows()"
   ]
  },
  {
   "cell_type": "code",
   "execution_count": 31,
   "metadata": {},
   "outputs": [],
   "source": [
    "img_scaled3=cv2.resize(img,(900,400),interpolation=cv2.INTER_AREA)\n",
    "cv2.imshow(\"Scaling\",img_scaled)\n",
    "cv2.waitKey(0)\n",
    "cv2.destroyAllWindows()"
   ]
  },
  {
   "cell_type": "markdown",
   "metadata": {},
   "source": [
    "# Image Pyramids"
   ]
  },
  {
   "cell_type": "code",
   "execution_count": 32,
   "metadata": {},
   "outputs": [],
   "source": [
    "smaller=cv2.pyrDown(img)\n",
    "larger=cv2.pyrUp(smaller)\n",
    "cv2.imshow(\"Smaller\",smaller)\n",
    "cv2.imshow(\"Larger\",larger)\n",
    "cv2.waitKey(0)\n",
    "cv2.destroyAllWindows()\n"
   ]
  },
  {
   "cell_type": "code",
   "execution_count": 36,
   "metadata": {},
   "outputs": [],
   "source": [
    "smaller=cv2.pyrDown(img)\n",
    "larger=cv2.pyrUp(smaller)\n",
    "cv2.imshow(\"Smaller\",smaller)\n",
    "cv2.imshow(\"Larger\",larger)\n",
    "'''for i in range(1):\n",
    "    smaller=cv2.pyrDown(smaller)\n",
    "    cv2.imshow(\"Smaller\",smaller)'''\n",
    "    \n",
    "cv2.waitKey(0)\n",
    "cv2.destroyAllWindows()\n"
   ]
  },
  {
   "cell_type": "markdown",
   "metadata": {},
   "source": [
    "# Cropping Images"
   ]
  },
  {
   "cell_type": "code",
   "execution_count": 39,
   "metadata": {},
   "outputs": [],
   "source": [
    "height,width=img.shape[:2]\n",
    "start_row,start_col=int(height*.25),int(width*.25)\n",
    "end_row,end_col=int(height*.75),int(width*.75)\n",
    "cropped=img[start_row:end_row,start_col:end_col]\n",
    "cv2.imshow(\"Cropped image\",cropped)\n",
    "cv2.imshow(\"Original\",smaller)\n",
    "cv2.waitKey(0)\n",
    "cv2.destroyAllWindows()\n",
    "\n",
    "\n",
    "\n",
    "\n"
   ]
  },
  {
   "cell_type": "markdown",
   "metadata": {},
   "source": [
    "# Arithmetic Operations"
   ]
  },
  {
   "cell_type": "code",
   "execution_count": 42,
   "metadata": {},
   "outputs": [],
   "source": [
    "#these allows directly add or subtract to the color\n",
    "M=np.ones(smaller.shape,dtype=\"uint8\")*75\n",
    "#increase in brightness\n",
    "added=cv2.add(smaller,M)\n",
    "cv2.imshow(\"Added\",added)\n",
    "cv2.imshow(\"Original\",smaller)\n",
    "cv2.waitKey(0)\n",
    "cv2.destroyAllWindows()\n"
   ]
  },
  {
   "cell_type": "code",
   "execution_count": 43,
   "metadata": {},
   "outputs": [],
   "source": [
    "#subtract(Decrease in intensity)\n",
    "subtracted=cv2.subtract(smaller,M)\n",
    "cv2.imshow(\"Subtract\",subtracted)\n",
    "cv2.imshow(\"Original\",smaller)\n",
    "cv2.waitKey(0)\n",
    "cv2.destroyAllWindows()\n",
    "\n"
   ]
  },
  {
   "cell_type": "code",
   "execution_count": 44,
   "metadata": {},
   "outputs": [
    {
     "name": "stdout",
     "output_type": "stream",
     "text": [
      "[[[75 75 75]\n",
      "  [75 75 75]\n",
      "  [75 75 75]\n",
      "  ...\n",
      "  [75 75 75]\n",
      "  [75 75 75]\n",
      "  [75 75 75]]\n",
      "\n",
      " [[75 75 75]\n",
      "  [75 75 75]\n",
      "  [75 75 75]\n",
      "  ...\n",
      "  [75 75 75]\n",
      "  [75 75 75]\n",
      "  [75 75 75]]\n",
      "\n",
      " [[75 75 75]\n",
      "  [75 75 75]\n",
      "  [75 75 75]\n",
      "  ...\n",
      "  [75 75 75]\n",
      "  [75 75 75]\n",
      "  [75 75 75]]\n",
      "\n",
      " ...\n",
      "\n",
      " [[75 75 75]\n",
      "  [75 75 75]\n",
      "  [75 75 75]\n",
      "  ...\n",
      "  [75 75 75]\n",
      "  [75 75 75]\n",
      "  [75 75 75]]\n",
      "\n",
      " [[75 75 75]\n",
      "  [75 75 75]\n",
      "  [75 75 75]\n",
      "  ...\n",
      "  [75 75 75]\n",
      "  [75 75 75]\n",
      "  [75 75 75]]\n",
      "\n",
      " [[75 75 75]\n",
      "  [75 75 75]\n",
      "  [75 75 75]\n",
      "  ...\n",
      "  [75 75 75]\n",
      "  [75 75 75]\n",
      "  [75 75 75]]]\n"
     ]
    }
   ],
   "source": [
    "print(M)"
   ]
  },
  {
   "cell_type": "markdown",
   "metadata": {},
   "source": [
    "# Bitwise Operations and Masking"
   ]
  },
  {
   "cell_type": "code",
   "execution_count": 45,
   "metadata": {},
   "outputs": [
    {
     "data": {
      "text/plain": [
       "array([[0, 0, 0, ..., 0, 0, 0],\n",
       "       [0, 0, 0, ..., 0, 0, 0],\n",
       "       [0, 0, 0, ..., 0, 0, 0],\n",
       "       ...,\n",
       "       [0, 0, 0, ..., 0, 0, 0],\n",
       "       [0, 0, 0, ..., 0, 0, 0],\n",
       "       [0, 0, 0, ..., 0, 0, 0]], dtype=uint8)"
      ]
     },
     "execution_count": 45,
     "metadata": {},
     "output_type": "execute_result"
    }
   ],
   "source": [
    "#Making a square\n",
    "square=np.zeros((300,300),np.uint8)\n",
    "cv2.rectangle(square,(50,50),(250,250),255,-2)"
   ]
  },
  {
   "cell_type": "code",
   "execution_count": 46,
   "metadata": {},
   "outputs": [],
   "source": [
    "#cv2.imshow(\"Subtract\",subtracted)\n",
    "cv2.imshow(\"rectangle\",square)\n",
    "cv2.waitKey(0)\n",
    "cv2.destroyAllWindows()\n",
    "\n"
   ]
  },
  {
   "cell_type": "code",
   "execution_count": 49,
   "metadata": {},
   "outputs": [],
   "source": [
    "#making a ellipse\n",
    "ellipse=np.zeros((300,300),np.uint8)\n",
    "cv2.ellipse(ellipse,(150,150),(150,150),30,0,180,255,-1)\n",
    "cv2.imshow(\"Ellipse\",ellipse)\n",
    "cv2.waitKey(0)\n",
    "cv2.destroyAllWindows()\n",
    "\n"
   ]
  },
  {
   "cell_type": "markdown",
   "metadata": {},
   "source": [
    "# Experiment with some bitwise operator"
   ]
  },
  {
   "cell_type": "code",
   "execution_count": 50,
   "metadata": {},
   "outputs": [],
   "source": [
    "#shows only where they intersect\n",
    "And=cv2.bitwise_and(square,ellipse)\n",
    "cv2.imshow(\"AND\",And)\n",
    "cv2.waitKey(0)\n",
    "cv2.destroyAllWindows()\n",
    "\n"
   ]
  },
  {
   "cell_type": "code",
   "execution_count": 51,
   "metadata": {},
   "outputs": [],
   "source": [
    "#shows where either square or ellipse is \n",
    "Or=cv2.bitwise_or(square,ellipse)\n",
    "cv2.imshow(\"OR\",Or)\n",
    "cv2.waitKey(0)\n",
    "cv2.destroyAllWindows()\n",
    "\n"
   ]
  },
  {
   "cell_type": "code",
   "execution_count": 52,
   "metadata": {},
   "outputs": [],
   "source": [
    "#show where either exist by itself\n",
    "Xor=cv2.bitwise_xor(square,ellipse)\n",
    "cv2.imshow(\"XOR\",Xor)\n",
    "cv2.waitKey(0)\n",
    "cv2.destroyAllWindows()\n",
    "\n"
   ]
  },
  {
   "cell_type": "code",
   "execution_count": 53,
   "metadata": {},
   "outputs": [],
   "source": [
    "#shows everything that isn't part of the square or ellipse\n",
    "Not_sq=cv2.bitwise_not(square)\n",
    "cv2.imshow(\"NOT-Square\",Not_sq)\n",
    "Not_el=cv2.bitwise_not(ellipse)\n",
    "cv2.imshow(\"NOT_ellipse\",Not_el)\n",
    "cv2.waitKey(0)\n",
    "cv2.destroyAllWindows()\n",
    "\n"
   ]
  },
  {
   "cell_type": "code",
   "execution_count": null,
   "metadata": {},
   "outputs": [],
   "source": []
  }
 ],
 "metadata": {
  "kernelspec": {
   "display_name": "Python 3",
   "language": "python",
   "name": "python3"
  },
  "language_info": {
   "codemirror_mode": {
    "name": "ipython",
    "version": 3
   },
   "file_extension": ".py",
   "mimetype": "text/x-python",
   "name": "python",
   "nbconvert_exporter": "python",
   "pygments_lexer": "ipython3",
   "version": "3.7.3"
  }
 },
 "nbformat": 4,
 "nbformat_minor": 4
}
